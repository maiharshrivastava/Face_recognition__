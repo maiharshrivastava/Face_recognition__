{
  "nbformat": 4,
  "nbformat_minor": 0,
  "metadata": {
    "colab": {
      "provenance": [],
      "toc_visible": true,
      "authorship_tag": "ABX9TyNtOSsopOQV+0I41WZVu345",
      "include_colab_link": true
    },
    "kernelspec": {
      "name": "python3",
      "display_name": "Python 3"
    },
    "language_info": {
      "name": "python"
    }
  },
  "cells": [
    {
      "cell_type": "markdown",
      "metadata": {
        "id": "view-in-github",
        "colab_type": "text"
      },
      "source": [
        "<a href=\"https://colab.research.google.com/github/maiharshrivastava/mpsedc/blob/main/Untitled7.ipynb\" target=\"_parent\"><img src=\"https://colab.research.google.com/assets/colab-badge.svg\" alt=\"Open In Colab\"/></a>"
      ]
    },
    {
      "cell_type": "code",
      "source": [
        "#Resnet\n",
        "import torch\n",
        "import torch.nn as nn  # Import nn module\n",
        "import torchvision\n",
        "import torchvision.transforms as transforms\n",
        "from torch.utils.data import Subset\n",
        "import torch.optim as optim\n",
        "import torch.nn.functional as F\n",
        "from tqdm import tqdm\n",
        "import matplotlib.pyplot as plt\n",
        "\n",
        "# Define the ConvBlock and DepthwiseConvBlock\n",
        "class ConvBlock(nn.Module):\n",
        "    def __init__(self, in_channels, out_channels, kernel_size, stride, padding, groups=1, bias=False):\n",
        "        super().__init__()\n",
        "        self.c = nn.Conv2d(in_channels, out_channels, kernel_size, stride, padding, groups=groups, bias=bias)\n",
        "        self.bn = nn.BatchNorm2d(out_channels)\n",
        "        self.relu = nn.ReLU()\n",
        "\n",
        "    def forward(self, x):\n",
        "        return self.relu(self.bn(self.c(x)))\n",
        "\n",
        "class DepthwiseConvBlock(nn.Module):\n",
        "    def __init__(self, in_channels, out_channels, stride):\n",
        "        super().__init__()\n",
        "        self.depthwise = ConvBlock(in_channels, in_channels, 3, stride, 1, in_channels)\n",
        "        self.pointwise = ConvBlock(in_channels, out_channels, 1, 1, 0)\n",
        "\n",
        "    def forward(self, x):\n",
        "        x = self.depthwise(x)\n",
        "        x = self.pointwise(x)\n",
        "        return x\n",
        "\n",
        "# Define the simplified MobileNet model\n",
        "class MobileNetSmall(nn.Module):\n",
        "    def __init__(self, alpha=1.0, num_classes=10):\n",
        "        super(MobileNetSmall, self).__init__()\n",
        "        channels = [32, 64, 128, 256, 512, 1024]\n",
        "        if alpha < 1:\n",
        "            channels = [int(c * alpha) for c in channels]\n",
        "\n",
        "        self.conv1 = ConvBlock(3, channels[0], 3, 2, 1)\n",
        "        self.blocks = nn.ModuleList([\n",
        "            DepthwiseConvBlock(channels[0], channels[1], 1),\n",
        "            DepthwiseConvBlock(channels[1], channels[2], 2),\n",
        "            DepthwiseConvBlock(channels[2], channels[3], 2),\n",
        "            DepthwiseConvBlock(channels[3], channels[4], 2),\n",
        "            DepthwiseConvBlock(channels[4], channels[5], 2)\n",
        "        ])\n",
        "        self.classifier = nn.Sequential(\n",
        "            nn.AdaptiveAvgPool2d((1,1)),\n",
        "            nn.Flatten(),\n",
        "            nn.Linear(channels[5], num_classes)\n",
        "        )\n",
        "\n",
        "    def forward(self, x):\n",
        "        x = self.conv1(x)\n",
        "        for block in self.blocks:\n",
        "            x = block(x)\n",
        "        x = self.classifier(x)\n",
        "        return x\n",
        "\n",
        "# Prepare the dataset\n",
        "transform = transforms.Compose([\n",
        "    transforms.Resize(224),\n",
        "    transforms.ToTensor(),\n",
        "    transforms.Normalize((0.485, 0.456, 0.406), (0.229, 0.224, 0.225)),\n",
        "])\n",
        "\n",
        "train_dataset = torchvision.datasets.CIFAR10(root='./data', train=True, download=True, transform=transform)\n",
        "test_dataset = torchvision.datasets.CIFAR10(root='./data', train=False, download=True, transform=transform)\n",
        "\n",
        "# Use a subset of the dataset for faster training\n",
        "train_subset = Subset(train_dataset, range(5000))\n",
        "test_subset = Subset(test_dataset, range(1000))\n",
        "\n",
        "train_loader = torch.utils.data.DataLoader(train_subset, batch_size=64, shuffle=True, num_workers=2)\n",
        "test_loader = torch.utils.data.DataLoader(test_subset, batch_size=64, shuffle=False, num_workers=2)\n",
        "\n",
        "# Training and testing functions\n",
        "def train(model, device, train_loader, optimizer, epoch):\n",
        "    model.train()\n",
        "    train_loss = 0\n",
        "    correct = 0\n",
        "    total = 0\n",
        "    for batch_idx, (data, target) in enumerate(tqdm(train_loader)):\n",
        "        data, target = data.to(device), target.to(device)\n",
        "        optimizer.zero_grad()\n",
        "        output = model(data)\n",
        "        loss = F.cross_entropy(output, target)\n",
        "        loss.backward()\n",
        "        optimizer.step()\n",
        "        train_loss += loss.item()\n",
        "        _, predicted = output.max(1)\n",
        "        total += target.size(0)\n",
        "        correct += predicted.eq(target).sum().item()\n",
        "\n",
        "    train_loss /= len(train_loader)\n",
        "    accuracy = 100. * correct / total\n",
        "    print(f'Train Epoch: {epoch} \\tLoss: {train_loss:.6f}\\tAccuracy: {accuracy:.2f}%')\n",
        "    return train_loss, accuracy\n",
        "\n",
        "def test(model, device, test_loader):\n",
        "    model.eval()\n",
        "    test_loss = 0\n",
        "    correct = 0\n",
        "    total = 0\n",
        "    with torch.no_grad():\n",
        "        for data, target in test_loader:\n",
        "            data, target = data.to(device), target.to(device)\n",
        "            output = model(data)\n",
        "            test_loss += F.cross_entropy(output, target, reduction='sum').item()\n",
        "            _, predicted = output.max(1)\n",
        "            total += target.size(0)\n",
        "            correct += predicted.eq(target).sum().item()\n",
        "\n",
        "    test_loss /= len(test_loader.dataset)\n",
        "    accuracy = 100. * correct / total\n",
        "    print(f'Test set: Average loss: {test_loss:.4f}, Accuracy: {correct}/{total} ({accuracy:.2f}%)')\n",
        "    return test_loss, accuracy\n",
        "\n",
        "# Train the model\n",
        "device = torch.device(\"cuda\" if torch.cuda.is_available() else \"cpu\")\n",
        "model = MobileNetSmall(alpha=1.0).to(device)\n",
        "optimizer = optim.Adam(model.parameters(), lr=0.001)\n",
        "\n",
        "epochs = 5  # Reduced number of epochs\n",
        "train_losses, train_accuracies = [], []\n",
        "test_losses, test_accuracies = [], []\n",
        "\n",
        "for epoch in range(1, epochs + 1):\n",
        "    train_loss, train_acc = train(model, device, train_loader, optimizer, epoch)\n",
        "    test_loss, test_acc = test(model, device, test_loader)\n",
        "    train_losses.append(train_loss)\n",
        "    train_accuracies.append(train_acc)\n",
        "    test_losses.append(test_loss)\n",
        "    test_accuracies.append(test_acc)\n",
        "\n",
        "# Plot the results\n",
        "plt.figure(figsize=(12, 4))\n",
        "plt.subplot(1, 2, 1)\n",
        "plt.plot(range(1, epochs + 1), train_losses, label='Train Loss')\n",
        "plt.plot(range(1, epochs + 1), test_losses, label='Test Loss')\n",
        "plt.xlabel('Epoch')\n",
        "plt.ylabel('Loss')\n",
        "plt.title('Loss over Epochs')\n",
        "plt.legend()\n",
        "\n",
        "plt.subplot(1, 2, 2)\n",
        "plt.plot(range(1, epochs + 1), train_accuracies, label='Train Accuracy')\n",
        "plt.plot(range(1, epochs + 1), test_accuracies, label='Test Accuracy')\n",
        "plt.xlabel('Epoch')\n",
        "plt.ylabel('Accuracy')\n",
        "plt.title('Accuracy over Epochs')\n",
        "plt.legend()\n",
        "\n",
        "plt.show()\n"
      ],
      "metadata": {
        "colab": {
          "base_uri": "https://localhost:8080/",
          "height": 694
        },
        "id": "kVm9ctdk1-js",
        "outputId": "9ada49fb-2d1c-4f34-9408-8b0b8811b06d"
      },
      "execution_count": 3,
      "outputs": [
        {
          "output_type": "stream",
          "name": "stdout",
          "text": [
            "Files already downloaded and verified\n",
            "Files already downloaded and verified\n"
          ]
        },
        {
          "output_type": "stream",
          "name": "stderr",
          "text": [
            "100%|██████████| 79/79 [09:33<00:00,  7.26s/it]"
          ]
        },
        {
          "output_type": "stream",
          "name": "stdout",
          "text": [
            "Train Epoch: 1 \tLoss: 1.799592\tAccuracy: 33.94%\n"
          ]
        },
        {
          "output_type": "stream",
          "name": "stderr",
          "text": [
            "\n"
          ]
        },
        {
          "output_type": "stream",
          "name": "stdout",
          "text": [
            "Test set: Average loss: 1.6740, Accuracy: 379/1000 (37.90%)\n"
          ]
        },
        {
          "output_type": "stream",
          "name": "stderr",
          "text": [
            "100%|██████████| 79/79 [09:36<00:00,  7.30s/it]"
          ]
        },
        {
          "output_type": "stream",
          "name": "stdout",
          "text": [
            "Train Epoch: 2 \tLoss: 1.451186\tAccuracy: 47.56%\n"
          ]
        },
        {
          "output_type": "stream",
          "name": "stderr",
          "text": [
            "\n"
          ]
        },
        {
          "output_type": "stream",
          "name": "stdout",
          "text": [
            "Test set: Average loss: 1.5499, Accuracy: 427/1000 (42.70%)\n"
          ]
        },
        {
          "output_type": "stream",
          "name": "stderr",
          "text": [
            "100%|██████████| 79/79 [09:30<00:00,  7.22s/it]"
          ]
        },
        {
          "output_type": "stream",
          "name": "stdout",
          "text": [
            "Train Epoch: 3 \tLoss: 1.256232\tAccuracy: 55.88%\n"
          ]
        },
        {
          "output_type": "stream",
          "name": "stderr",
          "text": [
            "\n"
          ]
        },
        {
          "output_type": "stream",
          "name": "stdout",
          "text": [
            "Test set: Average loss: 1.4951, Accuracy: 442/1000 (44.20%)\n"
          ]
        },
        {
          "output_type": "stream",
          "name": "stderr",
          "text": [
            "100%|██████████| 79/79 [09:26<00:00,  7.17s/it]"
          ]
        },
        {
          "output_type": "stream",
          "name": "stdout",
          "text": [
            "Train Epoch: 4 \tLoss: 1.068286\tAccuracy: 62.48%\n"
          ]
        },
        {
          "output_type": "stream",
          "name": "stderr",
          "text": [
            "\n"
          ]
        },
        {
          "output_type": "stream",
          "name": "stdout",
          "text": [
            "Test set: Average loss: 1.5805, Accuracy: 437/1000 (43.70%)\n"
          ]
        },
        {
          "output_type": "stream",
          "name": "stderr",
          "text": [
            "100%|██████████| 79/79 [09:30<00:00,  7.22s/it]"
          ]
        },
        {
          "output_type": "stream",
          "name": "stdout",
          "text": [
            "Train Epoch: 5 \tLoss: 0.906853\tAccuracy: 68.60%\n"
          ]
        },
        {
          "output_type": "stream",
          "name": "stderr",
          "text": [
            "\n"
          ]
        },
        {
          "output_type": "stream",
          "name": "stdout",
          "text": [
            "Test set: Average loss: 1.4485, Accuracy: 490/1000 (49.00%)\n"
          ]
        },
        {
          "output_type": "display_data",
          "data": {
            "text/plain": [
              "<Figure size 1200x400 with 2 Axes>"
            ],
            "image/png": "[encoded data removed]"
          },
          "metadata": {}
        }
      ]
    },
    {
      "cell_type": "code",
      "source": [
        "import torch\n",
        "import torch.nn as nn\n",
        "import torch.optim as optim\n",
        "import torchvision\n",
        "import torchvision.transforms as transforms\n",
        "from torch.utils.data import Subset, DataLoader\n",
        "from tqdm import tqdm\n",
        "import matplotlib.pyplot as plt\n",
        "\n",
        "# Define ConvBlock and DepthwiseConvBlock\n",
        "class ConvBlock(nn.Module):\n",
        "    def __init__(self, in_channels, out_channels, kernel_size, stride, padding, groups=1, bias=False):\n",
        "        super().__init__()\n",
        "        self.c = nn.Conv2d(in_channels, out_channels, kernel_size, stride, padding, groups=groups, bias=bias)\n",
        "        self.bn = nn.BatchNorm2d(out_channels)\n",
        "        self.relu = nn.ReLU()\n",
        "\n",
        "    def forward(self, x):\n",
        "        return self.relu(self.bn(self.c(x)))\n",
        "\n",
        "class DepthwiseConvBlock(nn.Module):\n",
        "    def __init__(self, in_channels, out_channels, stride):\n",
        "        super().__init__()\n",
        "        self.depthwise = ConvBlock(in_channels, in_channels, 3, stride, 1, in_channels)\n",
        "        self.pointwise = ConvBlock(in_channels, out_channels, 1, 1, 0)\n",
        "\n",
        "    def forward(self, x):\n",
        "        x = self.depthwise(x)\n",
        "        x = self.pointwise(x)\n",
        "        return x\n",
        "\n",
        "# Define MobileNet model\n",
        "class MobileNet(nn.Module):\n",
        "    def __init__(self, alpha=1.0, in_channels=3, classes=10):\n",
        "        super().__init__()\n",
        "        strides = [1, 2, 1, 2, 1, 2, 1, 1, 1, 1, 1, 2, 1]\n",
        "        channels = [32, 64, 128, 128, 256, 256, 512, 512, 512, 512, 512, 512, 1024, 1024]\n",
        "\n",
        "        if alpha < 1:\n",
        "            channels = [int(channel * alpha) for channel in channels]\n",
        "\n",
        "        self.blocks = nn.ModuleList([])\n",
        "        for i, stride in enumerate(strides):\n",
        "            self.blocks.append(DepthwiseConvBlock(channels[i], channels[i+1], stride))\n",
        "\n",
        "        self.conv1 = ConvBlock(in_channels, channels[0], 3, 2, 1)\n",
        "        self.classifier = nn.Sequential(\n",
        "            nn.AdaptiveAvgPool2d((1, 1)),\n",
        "            nn.Flatten(),\n",
        "            nn.Linear(channels[-1], classes)\n",
        "        )\n",
        "\n",
        "    def forward(self, x):\n",
        "        x = self.conv1(x)\n",
        "        for block in self.blocks:\n",
        "            x = block(x)\n",
        "        x = self.classifier(x)\n",
        "        return x\n",
        "\n",
        "# Load CIFAR-10 dataset\n",
        "transform = transforms.Compose([\n",
        "    transforms.Resize(224),\n",
        "    transforms.ToTensor(),\n",
        "    transforms.Normalize((0.5, 0.5, 0.5), (0.5, 0.5, 0.5)),\n",
        "])\n",
        "\n",
        "train_dataset = torchvision.datasets.CIFAR10(root='./data', train=True, download=True, transform=transform)\n",
        "test_dataset = torchvision.datasets.CIFAR10(root='./data', train=False, download=True, transform=transform)\n",
        "\n",
        "# Subset for faster training\n",
        "train_subset = Subset(train_dataset, range(5000))  # Using 5000 samples for training\n",
        "test_subset = Subset(test_dataset, range(1000))    # Using 1000 samples for testing\n",
        "\n",
        "train_loader = DataLoader(train_subset, batch_size=64, shuffle=True)\n",
        "test_loader = DataLoader(test_subset, batch_size=64, shuffle=False)\n",
        "\n",
        "# Training function\n",
        "def train(model, device, train_loader, optimizer, criterion):\n",
        "    model.train()\n",
        "    train_loss = 0.0\n",
        "    correct = 0\n",
        "    total = 0\n",
        "\n",
        "    for data, target in tqdm(train_loader):\n",
        "        data, target = data.to(device), target.to(device)\n",
        "        optimizer.zero_grad()\n",
        "        output = model(data)\n",
        "        loss = criterion(output, target)\n",
        "        loss.backward()\n",
        "        optimizer.step()\n",
        "\n",
        "        train_loss += loss.item()\n",
        "        _, predicted = output.max(1)\n",
        "        total += target.size(0)\n",
        "        correct += predicted.eq(target).sum().item()\n",
        "\n",
        "    train_loss /= len(train_loader)\n",
        "    train_acc = 100. * correct / total\n",
        "\n",
        "    return train_loss, train_acc\n",
        "\n",
        "# Test function\n",
        "def test(model, device, test_loader, criterion):\n",
        "    model.eval()\n",
        "    test_loss = 0.0\n",
        "    correct = 0\n",
        "    total = 0\n",
        "\n",
        "    with torch.no_grad():\n",
        "        for data, target in tqdm(test_loader):\n",
        "            data, target = data.to(device), target.to(device)\n",
        "            output = model(data)\n",
        "            loss = criterion(output, target)\n",
        "\n",
        "            test_loss += loss.item()\n",
        "            _, predicted = output.max(1)\n",
        "            total += target.size(0)\n",
        "            correct += predicted.eq(target).sum().item()\n",
        "\n",
        "    test_loss /= len(test_loader)\n",
        "    test_acc = 100. * correct / total\n",
        "\n",
        "    return test_loss, test_acc\n",
        "\n",
        "# Training parameters\n",
        "device = torch.device(\"cuda\" if torch.cuda.is_available() else \"cpu\")\n",
        "model = MobileNet(alpha=1.0).to(device)\n",
        "optimizer = optim.Adam(model.parameters(), lr=0.001)\n",
        "criterion = nn.CrossEntropyLoss()\n",
        "\n",
        "# Training loop\n",
        "epochs = 10\n",
        "train_losses = []\n",
        "train_accuracies = []\n",
        "test_losses = []\n",
        "test_accuracies = []\n",
        "\n",
        "for epoch in range(1, epochs + 1):\n",
        "    train_loss, train_acc = train(model, device, train_loader, optimizer, criterion)\n",
        "    test_loss, test_acc = test(model, device, test_loader, criterion)\n",
        "\n",
        "    train_losses.append(train_loss)\n",
        "    train_accuracies.append(train_acc)\n",
        "    test_losses.append(test_loss)\n",
        "    test_accuracies.append(test_acc)\n",
        "\n",
        "    print(f'Epoch {epoch}/{epochs}, Train Loss: {train_loss:.6f}, Train Acc: {train_acc:.2f}, Test Loss: {test_loss:.6f}, Test Acc: {test_acc:.2f}')\n",
        "\n",
        "# Plotting results\n",
        "plt.figure(figsize=(12, 4))\n",
        "\n",
        "plt.subplot(1, 2, 1)\n",
        "plt.plot(range(1, epochs + 1), train_losses, label='Train Loss')\n",
        "plt.plot(range(1, epochs + 1), test_losses, label='Test Loss')\n",
        "plt.xlabel('Epoch')\n",
        "plt.ylabel('Loss')\n",
        "plt.title('Loss over Epochs')\n",
        "plt.legend()\n",
        "\n",
        "plt.subplot(1, 2, 2)\n",
        "plt.plot(range(1, epochs + 1), train_accuracies, label='Train Accuracy')\n",
        "plt.plot(range(1, epochs + 1), test_accuracies, label='Test Accuracy')\n",
        "plt.xlabel('Epoch')\n",
        "plt.ylabel('Accuracy (%)')\n",
        "plt.title('Accuracy over Epochs')\n",
        "plt.legend()\n",
        "\n",
        "plt.tight_layout()\n",
        "plt.show()\n"
      ],
      "metadata": {
        "colab": {
          "base_uri": "https://localhost:8080/"
        },
        "id": "B8vIqhjECr0B",
        "outputId": "bdf4ac57-3836-40db-efde-4c60b72ba1be"
      },
      "execution_count": null,
      "outputs": [
        {
          "output_type": "stream",
          "name": "stdout",
          "text": [
            "Files already downloaded and verified\n",
            "Files already downloaded and verified\n"
          ]
        },
        {
          "output_type": "stream",
          "name": "stderr",
          "text": [
            "100%|██████████| 79/79 [14:42<00:00, 11.17s/it]\n",
            "100%|██████████| 16/16 [00:37<00:00,  2.33s/it]\n"
          ]
        },
        {
          "output_type": "stream",
          "name": "stdout",
          "text": [
            "Epoch 1/10, Train Loss: 1.835663, Train Acc: 30.96, Test Loss: 1.831191, Test Acc: 33.60\n"
          ]
        },
        {
          "output_type": "stream",
          "name": "stderr",
          "text": [
            "100%|██████████| 79/79 [15:53<00:00, 12.07s/it]\n",
            "100%|██████████| 16/16 [00:37<00:00,  2.33s/it]\n"
          ]
        },
        {
          "output_type": "stream",
          "name": "stdout",
          "text": [
            "Epoch 2/10, Train Loss: 1.546593, Train Acc: 43.02, Test Loss: 1.489343, Test Acc: 45.20\n"
          ]
        },
        {
          "output_type": "stream",
          "name": "stderr",
          "text": [
            " 97%|█████████▋| 77/79 [15:21<00:24, 12.03s/it]"
          ]
        }
      ]
    },
    {
      "cell_type": "code",
      "source": [
        "#MobileNetV2\n",
        "\n",
        "import torch\n",
        "import torch.nn as nn\n",
        "from torch import Tensor\n",
        "\n",
        "class ConvBlock(nn.Module):\n",
        "    \"\"\" Convolution Block with Conv2d layer, Batch Normalization and ReLU. Act input defines whetver to apply activation or not. \"\"\"\n",
        "    def __init__(\n",
        "        self,\n",
        "        in_channels : int,\n",
        "        out_channels : int,\n",
        "        kernel_size : int,\n",
        "        stride : int,\n",
        "        padding : int,\n",
        "        groups = 1,\n",
        "        act=True,\n",
        "        bias=False\n",
        "        ):\n",
        "\n",
        "        super().__init__()\n",
        "\n",
        "        self.c = nn.Conv2d(in_channels, out_channels, kernel_size, stride, padding, groups=groups, bias=bias)\n",
        "        self.bn = nn.BatchNorm2d(out_channels)\n",
        "\n",
        "        if act:\n",
        "            self.relu = nn.ReLU6()\n",
        "        else:\n",
        "            self.relu = nn.Identity()\n",
        "\n",
        "    def forward(self, x: Tensor) -> Tensor:\n",
        "        return self.relu(self.bn(self.c(x)))\n",
        "\n",
        "class InvertedResBlock(nn.Module):\n",
        "    \"\"\" Inverted Residual Block with expansion(exp) parameter. \"\"\"\n",
        "    def __init__(\n",
        "        self,\n",
        "        in_channels : int,\n",
        "        out_channels : int,\n",
        "        stride : int,\n",
        "        exp : int\n",
        "        ):\n",
        "\n",
        "        super().__init__()\n",
        "\n",
        "        self.add = True if in_channels == out_channels and stride == 2 else False\n",
        "        exp_channels = in_channels * exp\n",
        "\n",
        "        \"\"\" 3 Convolutions : Expansion, Depthwise, Pointwise. \"\"\"\n",
        "        self.expansion = ConvBlock(in_channels, exp_channels, 1, 1, 0, act=True)\n",
        "        self.dwise = ConvBlock(exp_channels, exp_channels, 3, stride, 1, groups=exp_channels)\n",
        "        self.pwise = ConvBlock(exp_channels, out_channels, 1, 1, 0, act=False)\n",
        "\n",
        "\n",
        "    def forward(self, x: Tensor) -> Tensor:\n",
        "        res = x\n",
        "        x = self.expansion(x)\n",
        "        x = self.dwise(x)\n",
        "        x = self.pwise(x)\n",
        "        if self.add:\n",
        "            x = x + res\n",
        "\n",
        "        return x\n",
        "\n",
        "class MobileNetv2(nn.Module):\n",
        "    \"\"\" Baseline MobileNet model that takes in width(alpha)\"\"\"\n",
        "    def __init__(\n",
        "        self,\n",
        "        alpha : float,\n",
        "        in_channels=3,\n",
        "        classes=1000,\n",
        "        show=False\n",
        "        ):\n",
        "\n",
        "        super().__init__()\n",
        "        self.show = show # prints shapes of outputs between layers\n",
        "        \"\"\" List of strides(s) and channels(c), expansion(t) for Inverted Residual Blocks and how many times they are repeated(n). \"\"\"\n",
        "        s = [1, 2, 2, 2, 1, 2, 1]\n",
        "        n = [1, 2, 3, 4, 3, 3, 1]\n",
        "        t = [1, 6, 6, 6, 6, 6, 6]\n",
        "        c = [32, 16, 24, 32, 64, 96, 160, 320, 1280]\n",
        "\n",
        "        if alpha > 1:\n",
        "            c = [int(channel * alpha) for channel in c]\n",
        "\n",
        "        elif alpha < 1:\n",
        "            c = [int(channel * alpha) for channel in c[:-1]]\n",
        "\n",
        "        \"\"\" List of Inverted Residual Blocks. \"\"\"\n",
        "        self.blocks = nn.ModuleList([])\n",
        "        for i in range(len(s)):\n",
        "            self._add_layer(c[i], c[i+1], s[i], n[i], t[i])\n",
        "\n",
        "        self.conv1 = nn.Conv2d(in_channels, c[0], 3, 2, 1)\n",
        "\n",
        "        self.classifier = nn.Sequential(\n",
        "            nn.Conv2d(c[-2], c[-1], 1, 1, 0),\n",
        "            nn.AdaptiveAvgPool2d((1,1)),\n",
        "            nn.Flatten(),\n",
        "            nn.Linear(c[-1], classes)\n",
        "        )\n",
        "\n",
        "    def forward(self, x: Tensor) -> Tensor:\n",
        "        x = self.conv1(x)\n",
        "        for block in self.blocks:\n",
        "            x = block(x)\n",
        "            if self.show : print(x.shape)\n",
        "\n",
        "        x = self.classifier(x)\n",
        "        return x\n",
        "\n",
        "    def _add_layer(self, in_channels, out_channels, stride, n, t):\n",
        "        \"\"\" Add layer function which takes input and output channels, stride, repeats, expansion. \"\"\"\n",
        "        if n == 1:\n",
        "            self.blocks.append(InvertedResBlock(in_channels, out_channels, stride, t))\n",
        "        else:\n",
        "            self.blocks.append(InvertedResBlock(in_channels, in_channels, 1, t))\n",
        "            for _ in range(n-2):\n",
        "                self.blocks.append(InvertedResBlock(in_channels, in_channels, 1, t))\n",
        "\n",
        "            self.blocks.append(InvertedResBlock(in_channels, out_channels, stride, t))\n",
        "\n",
        "\n",
        "if __name__ ==  \"__main__\":\n",
        "    \"\"\" Second hyperparameter is resolution multiplayer(rho). \"\"\"\n",
        "    \"\"\" Baseline configuration is alpha=1, rho=1. \"\"\"\n",
        "\n",
        "    rho = 1\n",
        "    alpha = 1\n",
        "    res = int(224 * rho)\n",
        "\n",
        "    net = MobileNetv2(alpha)\n",
        "    print(net(torch.rand(1, 3, res, res)).shape)"
      ],
      "metadata": {
        "colab": {
          "base_uri": "https://localhost:8080/"
        },
        "id": "E6GwOtzTvurE",
        "outputId": "010e0e99-3aa6-43cd-9f18-3c1121fef40b"
      },
      "execution_count": 6,
      "outputs": [
        {
          "output_type": "stream",
          "name": "stdout",
          "text": [
            "torch.Size([1, 1000])\n"
          ]
        }
      ]
    },
    {
      "cell_type": "code",
      "source": [
        "#GoogLeNet\n",
        "import torch\n",
        "import torch.nn as nn\n",
        "\n",
        "class InceptionBlock(nn.Module):\n",
        "    def __init__(self, in_channels, out_channels):\n",
        "        super().__init__()\n",
        "        self.relu = nn.ReLU()\n",
        "        # Different projections\n",
        "        self.p1 = nn.Sequential(*[nn.Conv2d(in_channels, out_channels[0], kernel_size=1, padding=0, stride=1), self.relu])\n",
        "        self.p2 = nn.Sequential(*[nn.Conv2d(in_channels, out_channels[1], kernel_size=1, padding=0, stride=1), self.relu, nn.Conv2d(out_channels[1], out_channels[2], kernel_size=3, padding=1, stride=1), self.relu])\n",
        "        self.p3 = nn.Sequential(*[nn.Conv2d(in_channels, out_channels[3], kernel_size=1, padding=0, stride=1), self.relu, nn.Conv2d(out_channels[3], out_channels[4], kernel_size=5, padding=2, stride=1), self.relu])\n",
        "        self.p4 = nn.Sequential(*[nn.MaxPool2d(kernel_size=3, padding=1, stride=1), nn.Conv2d(in_channels, out_channels[5], kernel_size=1, padding=0, stride=1)])\n",
        "\n",
        "\n",
        "    def forward(self, x):\n",
        "        o1 = self.p1(x)\n",
        "        o2 = self.p2(x)\n",
        "        o3 = self.p3(x)\n",
        "        o4 = self.p4(x)\n",
        "\n",
        "        return torch.cat((o1,o2,o3,o4), axis=1)\n",
        "\n",
        "class AuxClassifier(nn.Module):\n",
        "    def __init__(self, in_channels, classes):\n",
        "        super().__init__()\n",
        "        in_features = 4 * 4 * 128\n",
        "        self.avg_pool = nn.AvgPool2d(kernel_size=5, stride=3)\n",
        "        self.conv1x1 = nn.Conv2d(in_channels=in_channels, out_channels=128, kernel_size=1, stride=1, padding=0)\n",
        "        self.fc1 = nn.Linear(in_features=in_features, out_features=in_features)\n",
        "        self.fc2 = nn.Linear(in_features=in_features, out_features=classes)\n",
        "        self.relu = nn.ReLU()\n",
        "        self.dropout = nn.Dropout(0.7)\n",
        "\n",
        "    def forward(self, x):\n",
        "        x = self.avg_pool(x)\n",
        "        x = self.relu(self.conv1x1(x))\n",
        "        x = torch.flatten(x, 1)\n",
        "        x = self.relu(self.dropout(self.fc1(x)))\n",
        "        x = self.fc2(x)\n",
        "        return x\n",
        "\n",
        "class GoogLeNet(nn.Module):\n",
        "    def __init__(self, in_depth=3, classes=1000):\n",
        "        super().__init__()\n",
        "\n",
        "        in_channels = [192, 256, 480, 512, 512, 512, 528, 832, 832, 1024]\n",
        "        feature_maps = [[64, 96, 128, 16, 32, 32],\n",
        "                        [128, 128, 192, 32, 96, 64],\n",
        "                        [192, 96, 208, 16, 48, 64],\n",
        "                        [160, 112, 224, 24, 64, 64],\n",
        "                        [128, 128, 256, 24, 64, 64],\n",
        "                        [112, 144, 288, 32, 64, 64],\n",
        "                        [256, 160, 320, 32, 128, 128],\n",
        "                        [256, 160, 320, 32, 128, 128],\n",
        "                        [384, 192, 384, 48, 128, 128]\n",
        "                    ]\n",
        "\n",
        "        self.AuxClass1 = AuxClassifier(512, classes)\n",
        "        self.AuxClass2 = AuxClassifier(528,classes)\n",
        "        self.Blocks = nn.ModuleList([InceptionBlock(in_channels[i], feature_maps[i]) for i in range(len(feature_maps))])\n",
        "\n",
        "        # Rest of the model\n",
        "        self.Conv7k = nn.Conv2d(in_channels=in_depth, out_channels=64, kernel_size=7, stride=2, padding=3)\n",
        "        self.Conv1k = nn.Conv2d(in_channels=64, out_channels=64, kernel_size=1, stride=1, padding=0)\n",
        "        self.Conv3k = nn.Conv2d(in_channels=64, out_channels=192, kernel_size=3, stride=1, padding=1)\n",
        "        self.MaxPool = nn.MaxPool2d(kernel_size=3, stride=2, padding=1)\n",
        "        self.LocalNorm = nn.LocalResponseNorm(size=5)\n",
        "        self.AvgPool = nn.AvgPool2d(kernel_size=7, stride=1)\n",
        "        self.FC = nn.Linear(1024, classes)\n",
        "        self.Dropout = nn.Dropout(0.4)\n",
        "        self.relu = nn.ReLU()\n",
        "\n",
        "        #print(next(iter(self.modules())))\n",
        "\n",
        "\n",
        "    def forward(self, x):\n",
        "        outputs = []\n",
        "        # x shape : [batch, 3, 224, 224]\n",
        "        x = self.relu(self.Conv7k(x))\n",
        "        x = self.LocalNorm(self.MaxPool(x))\n",
        "        x = self.relu(self.Conv1k(x))\n",
        "        x = self.LocalNorm(self.relu(self.Conv3k(x)))\n",
        "        x = self.MaxPool(x)\n",
        "        for i, block in enumerate(self.Blocks):\n",
        "            if i == 2 or i==7:\n",
        "                x = self.MaxPool(x)\n",
        "            elif i == 3:\n",
        "                outputs.append(self.AuxClass1(x))\n",
        "            elif i == 6:\n",
        "                outputs.append(self.AuxClass2(x))\n",
        "\n",
        "            x = block(x)\n",
        "\n",
        "        x = self.Dropout(self.AvgPool(x))\n",
        "        x = torch.flatten(x,1)\n",
        "        x = self.FC(x)\n",
        "        outputs.append(x)\n",
        "        return outputs\n",
        "\n",
        "if __name__ == \"__main__\":\n",
        "    Inception = GoogLeNet()\n",
        "    outs = Inception(torch.rand(1, 3, 224, 224))\n",
        "    for out in outs:\n",
        "        print(out.shape)"
      ],
      "metadata": {
        "colab": {
          "base_uri": "https://localhost:8080/"
        },
        "id": "ixjWB6Nuv9RS",
        "outputId": "92162bf1-7308-4ad2-e465-6a596ae43474"
      },
      "execution_count": 7,
      "outputs": [
        {
          "output_type": "stream",
          "name": "stdout",
          "text": [
            "torch.Size([1, 1000])\n",
            "torch.Size([1, 1000])\n",
            "torch.Size([1, 1000])\n"
          ]
        }
      ]
    },
    {
      "cell_type": "code",
      "source": [],
      "metadata": {
        "id": "PP9ijK5fwqH8"
      },
      "execution_count": null,
      "outputs": []
    }
  ]
}